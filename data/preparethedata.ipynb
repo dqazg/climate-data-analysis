{
 "cells": [
  {
   "metadata": {},
   "cell_type": "markdown",
   "source": "# 📊 Data preparing",
   "id": "8c35f234ae65ebcb"
  },
  {
   "metadata": {
    "ExecuteTime": {
     "end_time": "2024-12-03T12:40:40.898158Z",
     "start_time": "2024-12-03T12:40:40.618277Z"
    }
   },
   "cell_type": "code",
   "source": "import pandas as pd",
   "id": "7099489576e93416",
   "outputs": [],
   "execution_count": 1
  },
  {
   "metadata": {
    "ExecuteTime": {
     "end_time": "2024-12-03T12:40:41.057112Z",
     "start_time": "2024-12-03T12:40:40.901491Z"
    }
   },
   "cell_type": "code",
   "source": [
    "power = pd.read_csv('global_power_plant_database.csv', low_memory=False)\n",
    "\n",
    "airdata_aqi = pd.read_csv('aqi-data/AQI Value.csv')\n",
    "airdata_country = pd.read_csv('aqi-data/Country.csv')\n",
    "airdata_date = pd.read_csv('aqi-data/Date.csv')\n",
    "\n",
    "hdidata_demographics = pd.read_csv('hdi-datas-collection/demographics_dataset.csv')\n",
    "hdidata_co2 = pd.read_csv('hdi-datas-collection/co2_emissions_dataset.csv')\n",
    "hdidata_income = pd.read_csv('hdi-datas-collection/income_dataset.csv')\n",
    "hdidata_hdi = pd.read_csv('hdi-datas-collection/hdi_dataset.csv')\n",
    "hdidata_life_expectancy = pd.read_csv('hdi-datas-collection/life_expectancy_dataset.csv')"
   ],
   "id": "20ef48a83e1bdaf8",
   "outputs": [],
   "execution_count": 2
  },
  {
   "metadata": {},
   "cell_type": "markdown",
   "source": "## 🏭 Power plants database preparing",
   "id": "388b0511b5854c8e"
  },
  {
   "metadata": {
    "ExecuteTime": {
     "end_time": "2024-12-03T12:40:41.186473Z",
     "start_time": "2024-12-03T12:40:41.176717Z"
    }
   },
   "cell_type": "code",
   "source": "power.head()",
   "id": "e53529016a4dac0f",
   "outputs": [
    {
     "data": {
      "text/plain": [
       "  country country_long                                              name  \\\n",
       "0     AFG  Afghanistan      Kajaki Hydroelectric Power Plant Afghanistan   \n",
       "1     AFG  Afghanistan                                      Kandahar DOG   \n",
       "2     AFG  Afghanistan                                      Kandahar JOL   \n",
       "3     AFG  Afghanistan     Mahipar Hydroelectric Power Plant Afghanistan   \n",
       "4     AFG  Afghanistan  Naghlu Dam Hydroelectric Power Plant Afghanistan   \n",
       "\n",
       "      gppd_idnr  capacity_mw  latitude  longitude primary_fuel other_fuel1  \\\n",
       "0  GEODB0040538         33.0    32.322    65.1190        Hydro         NaN   \n",
       "1    WKS0070144         10.0    31.670    65.7950        Solar         NaN   \n",
       "2    WKS0071196         10.0    31.623    65.7920        Solar         NaN   \n",
       "3  GEODB0040541         66.0    34.556    69.4787        Hydro         NaN   \n",
       "4  GEODB0040534        100.0    34.641    69.7170        Hydro         NaN   \n",
       "\n",
       "  other_fuel2  ... estimated_generation_gwh_2013  \\\n",
       "0         NaN  ...                        123.77   \n",
       "1         NaN  ...                         18.43   \n",
       "2         NaN  ...                         18.64   \n",
       "3         NaN  ...                        225.06   \n",
       "4         NaN  ...                        406.16   \n",
       "\n",
       "   estimated_generation_gwh_2014 estimated_generation_gwh_2015  \\\n",
       "0                         162.90                         97.39   \n",
       "1                          17.48                         18.25   \n",
       "2                          17.58                         19.10   \n",
       "3                         203.55                        146.90   \n",
       "4                         357.22                        270.99   \n",
       "\n",
       "  estimated_generation_gwh_2016 estimated_generation_gwh_2017  \\\n",
       "0                        137.76                        119.50   \n",
       "1                         17.70                         18.29   \n",
       "2                         17.62                         18.72   \n",
       "3                        230.18                        174.91   \n",
       "4                        395.38                        350.80   \n",
       "\n",
       "  estimated_generation_note_2013 estimated_generation_note_2014  \\\n",
       "0                       HYDRO-V1                       HYDRO-V1   \n",
       "1                SOLAR-V1-NO-AGE                SOLAR-V1-NO-AGE   \n",
       "2                SOLAR-V1-NO-AGE                SOLAR-V1-NO-AGE   \n",
       "3                       HYDRO-V1                       HYDRO-V1   \n",
       "4                       HYDRO-V1                       HYDRO-V1   \n",
       "\n",
       "   estimated_generation_note_2015  estimated_generation_note_2016  \\\n",
       "0                        HYDRO-V1                        HYDRO-V1   \n",
       "1                 SOLAR-V1-NO-AGE                 SOLAR-V1-NO-AGE   \n",
       "2                 SOLAR-V1-NO-AGE                 SOLAR-V1-NO-AGE   \n",
       "3                        HYDRO-V1                        HYDRO-V1   \n",
       "4                        HYDRO-V1                        HYDRO-V1   \n",
       "\n",
       "   estimated_generation_note_2017  \n",
       "0                        HYDRO-V1  \n",
       "1                 SOLAR-V1-NO-AGE  \n",
       "2                 SOLAR-V1-NO-AGE  \n",
       "3                        HYDRO-V1  \n",
       "4                        HYDRO-V1  \n",
       "\n",
       "[5 rows x 36 columns]"
      ],
      "text/html": [
       "<div>\n",
       "<style scoped>\n",
       "    .dataframe tbody tr th:only-of-type {\n",
       "        vertical-align: middle;\n",
       "    }\n",
       "\n",
       "    .dataframe tbody tr th {\n",
       "        vertical-align: top;\n",
       "    }\n",
       "\n",
       "    .dataframe thead th {\n",
       "        text-align: right;\n",
       "    }\n",
       "</style>\n",
       "<table border=\"1\" class=\"dataframe\">\n",
       "  <thead>\n",
       "    <tr style=\"text-align: right;\">\n",
       "      <th></th>\n",
       "      <th>country</th>\n",
       "      <th>country_long</th>\n",
       "      <th>name</th>\n",
       "      <th>gppd_idnr</th>\n",
       "      <th>capacity_mw</th>\n",
       "      <th>latitude</th>\n",
       "      <th>longitude</th>\n",
       "      <th>primary_fuel</th>\n",
       "      <th>other_fuel1</th>\n",
       "      <th>other_fuel2</th>\n",
       "      <th>...</th>\n",
       "      <th>estimated_generation_gwh_2013</th>\n",
       "      <th>estimated_generation_gwh_2014</th>\n",
       "      <th>estimated_generation_gwh_2015</th>\n",
       "      <th>estimated_generation_gwh_2016</th>\n",
       "      <th>estimated_generation_gwh_2017</th>\n",
       "      <th>estimated_generation_note_2013</th>\n",
       "      <th>estimated_generation_note_2014</th>\n",
       "      <th>estimated_generation_note_2015</th>\n",
       "      <th>estimated_generation_note_2016</th>\n",
       "      <th>estimated_generation_note_2017</th>\n",
       "    </tr>\n",
       "  </thead>\n",
       "  <tbody>\n",
       "    <tr>\n",
       "      <th>0</th>\n",
       "      <td>AFG</td>\n",
       "      <td>Afghanistan</td>\n",
       "      <td>Kajaki Hydroelectric Power Plant Afghanistan</td>\n",
       "      <td>GEODB0040538</td>\n",
       "      <td>33.0</td>\n",
       "      <td>32.322</td>\n",
       "      <td>65.1190</td>\n",
       "      <td>Hydro</td>\n",
       "      <td>NaN</td>\n",
       "      <td>NaN</td>\n",
       "      <td>...</td>\n",
       "      <td>123.77</td>\n",
       "      <td>162.90</td>\n",
       "      <td>97.39</td>\n",
       "      <td>137.76</td>\n",
       "      <td>119.50</td>\n",
       "      <td>HYDRO-V1</td>\n",
       "      <td>HYDRO-V1</td>\n",
       "      <td>HYDRO-V1</td>\n",
       "      <td>HYDRO-V1</td>\n",
       "      <td>HYDRO-V1</td>\n",
       "    </tr>\n",
       "    <tr>\n",
       "      <th>1</th>\n",
       "      <td>AFG</td>\n",
       "      <td>Afghanistan</td>\n",
       "      <td>Kandahar DOG</td>\n",
       "      <td>WKS0070144</td>\n",
       "      <td>10.0</td>\n",
       "      <td>31.670</td>\n",
       "      <td>65.7950</td>\n",
       "      <td>Solar</td>\n",
       "      <td>NaN</td>\n",
       "      <td>NaN</td>\n",
       "      <td>...</td>\n",
       "      <td>18.43</td>\n",
       "      <td>17.48</td>\n",
       "      <td>18.25</td>\n",
       "      <td>17.70</td>\n",
       "      <td>18.29</td>\n",
       "      <td>SOLAR-V1-NO-AGE</td>\n",
       "      <td>SOLAR-V1-NO-AGE</td>\n",
       "      <td>SOLAR-V1-NO-AGE</td>\n",
       "      <td>SOLAR-V1-NO-AGE</td>\n",
       "      <td>SOLAR-V1-NO-AGE</td>\n",
       "    </tr>\n",
       "    <tr>\n",
       "      <th>2</th>\n",
       "      <td>AFG</td>\n",
       "      <td>Afghanistan</td>\n",
       "      <td>Kandahar JOL</td>\n",
       "      <td>WKS0071196</td>\n",
       "      <td>10.0</td>\n",
       "      <td>31.623</td>\n",
       "      <td>65.7920</td>\n",
       "      <td>Solar</td>\n",
       "      <td>NaN</td>\n",
       "      <td>NaN</td>\n",
       "      <td>...</td>\n",
       "      <td>18.64</td>\n",
       "      <td>17.58</td>\n",
       "      <td>19.10</td>\n",
       "      <td>17.62</td>\n",
       "      <td>18.72</td>\n",
       "      <td>SOLAR-V1-NO-AGE</td>\n",
       "      <td>SOLAR-V1-NO-AGE</td>\n",
       "      <td>SOLAR-V1-NO-AGE</td>\n",
       "      <td>SOLAR-V1-NO-AGE</td>\n",
       "      <td>SOLAR-V1-NO-AGE</td>\n",
       "    </tr>\n",
       "    <tr>\n",
       "      <th>3</th>\n",
       "      <td>AFG</td>\n",
       "      <td>Afghanistan</td>\n",
       "      <td>Mahipar Hydroelectric Power Plant Afghanistan</td>\n",
       "      <td>GEODB0040541</td>\n",
       "      <td>66.0</td>\n",
       "      <td>34.556</td>\n",
       "      <td>69.4787</td>\n",
       "      <td>Hydro</td>\n",
       "      <td>NaN</td>\n",
       "      <td>NaN</td>\n",
       "      <td>...</td>\n",
       "      <td>225.06</td>\n",
       "      <td>203.55</td>\n",
       "      <td>146.90</td>\n",
       "      <td>230.18</td>\n",
       "      <td>174.91</td>\n",
       "      <td>HYDRO-V1</td>\n",
       "      <td>HYDRO-V1</td>\n",
       "      <td>HYDRO-V1</td>\n",
       "      <td>HYDRO-V1</td>\n",
       "      <td>HYDRO-V1</td>\n",
       "    </tr>\n",
       "    <tr>\n",
       "      <th>4</th>\n",
       "      <td>AFG</td>\n",
       "      <td>Afghanistan</td>\n",
       "      <td>Naghlu Dam Hydroelectric Power Plant Afghanistan</td>\n",
       "      <td>GEODB0040534</td>\n",
       "      <td>100.0</td>\n",
       "      <td>34.641</td>\n",
       "      <td>69.7170</td>\n",
       "      <td>Hydro</td>\n",
       "      <td>NaN</td>\n",
       "      <td>NaN</td>\n",
       "      <td>...</td>\n",
       "      <td>406.16</td>\n",
       "      <td>357.22</td>\n",
       "      <td>270.99</td>\n",
       "      <td>395.38</td>\n",
       "      <td>350.80</td>\n",
       "      <td>HYDRO-V1</td>\n",
       "      <td>HYDRO-V1</td>\n",
       "      <td>HYDRO-V1</td>\n",
       "      <td>HYDRO-V1</td>\n",
       "      <td>HYDRO-V1</td>\n",
       "    </tr>\n",
       "  </tbody>\n",
       "</table>\n",
       "<p>5 rows × 36 columns</p>\n",
       "</div>"
      ]
     },
     "execution_count": 3,
     "metadata": {},
     "output_type": "execute_result"
    }
   ],
   "execution_count": 3
  },
  {
   "metadata": {
    "ExecuteTime": {
     "end_time": "2024-12-03T12:40:41.328710Z",
     "start_time": "2024-12-03T12:40:41.306326Z"
    }
   },
   "cell_type": "code",
   "source": "power.info()",
   "id": "412590ba4f8a7176",
   "outputs": [
    {
     "name": "stdout",
     "output_type": "stream",
     "text": [
      "<class 'pandas.core.frame.DataFrame'>\n",
      "RangeIndex: 34936 entries, 0 to 34935\n",
      "Data columns (total 36 columns):\n",
      " #   Column                          Non-Null Count  Dtype  \n",
      "---  ------                          --------------  -----  \n",
      " 0   country                         34936 non-null  object \n",
      " 1   country_long                    34936 non-null  object \n",
      " 2   name                            34936 non-null  object \n",
      " 3   gppd_idnr                       34936 non-null  object \n",
      " 4   capacity_mw                     34936 non-null  float64\n",
      " 5   latitude                        34936 non-null  float64\n",
      " 6   longitude                       34936 non-null  float64\n",
      " 7   primary_fuel                    34936 non-null  object \n",
      " 8   other_fuel1                     1944 non-null   object \n",
      " 9   other_fuel2                     276 non-null    object \n",
      " 10  other_fuel3                     92 non-null     object \n",
      " 11  commissioning_year              17447 non-null  float64\n",
      " 12  owner                           20868 non-null  object \n",
      " 13  source                          34921 non-null  object \n",
      " 14  url                             34918 non-null  object \n",
      " 15  geolocation_source              34517 non-null  object \n",
      " 16  wepp_id                         16234 non-null  object \n",
      " 17  year_of_capacity_data           14887 non-null  float64\n",
      " 18  generation_gwh_2013             6417 non-null   float64\n",
      " 19  generation_gwh_2014             7226 non-null   float64\n",
      " 20  generation_gwh_2015             8203 non-null   float64\n",
      " 21  generation_gwh_2016             9144 non-null   float64\n",
      " 22  generation_gwh_2017             9500 non-null   float64\n",
      " 23  generation_gwh_2018             9637 non-null   float64\n",
      " 24  generation_gwh_2019             9659 non-null   float64\n",
      " 25  generation_data_source          11400 non-null  object \n",
      " 26  estimated_generation_gwh_2013   16120 non-null  float64\n",
      " 27  estimated_generation_gwh_2014   16503 non-null  float64\n",
      " 28  estimated_generation_gwh_2015   17050 non-null  float64\n",
      " 29  estimated_generation_gwh_2016   17570 non-null  float64\n",
      " 30  estimated_generation_gwh_2017   33138 non-null  float64\n",
      " 31  estimated_generation_note_2013  34936 non-null  object \n",
      " 32  estimated_generation_note_2014  34936 non-null  object \n",
      " 33  estimated_generation_note_2015  34936 non-null  object \n",
      " 34  estimated_generation_note_2016  34936 non-null  object \n",
      " 35  estimated_generation_note_2017  34936 non-null  object \n",
      "dtypes: float64(17), object(19)\n",
      "memory usage: 9.6+ MB\n"
     ]
    }
   ],
   "execution_count": 4
  },
  {
   "metadata": {
    "ExecuteTime": {
     "end_time": "2024-12-03T12:40:41.373072Z",
     "start_time": "2024-12-03T12:40:41.371182Z"
    }
   },
   "cell_type": "code",
   "source": [
    "# Define the columns to keep\n",
    "columns_to_keep_power = ['country_long', 'capacity_mw', 'latitude', 'longitude', 'primary_fuel']"
   ],
   "id": "5fba0f881d7652f2",
   "outputs": [],
   "execution_count": 5
  },
  {
   "metadata": {
    "ExecuteTime": {
     "end_time": "2024-12-03T12:40:41.398328Z",
     "start_time": "2024-12-03T12:40:41.395316Z"
    }
   },
   "cell_type": "code",
   "source": "power = power[columns_to_keep_power]",
   "id": "15be9cf81e40ced0",
   "outputs": [],
   "execution_count": 6
  },
  {
   "metadata": {
    "ExecuteTime": {
     "end_time": "2024-12-03T12:40:41.426322Z",
     "start_time": "2024-12-03T12:40:41.421281Z"
    }
   },
   "cell_type": "code",
   "source": "power.info()",
   "id": "7442982f21f1267",
   "outputs": [
    {
     "name": "stdout",
     "output_type": "stream",
     "text": [
      "<class 'pandas.core.frame.DataFrame'>\n",
      "RangeIndex: 34936 entries, 0 to 34935\n",
      "Data columns (total 5 columns):\n",
      " #   Column        Non-Null Count  Dtype  \n",
      "---  ------        --------------  -----  \n",
      " 0   country_long  34936 non-null  object \n",
      " 1   capacity_mw   34936 non-null  float64\n",
      " 2   latitude      34936 non-null  float64\n",
      " 3   longitude     34936 non-null  float64\n",
      " 4   primary_fuel  34936 non-null  object \n",
      "dtypes: float64(3), object(2)\n",
      "memory usage: 1.3+ MB\n"
     ]
    }
   ],
   "execution_count": 7
  },
  {
   "metadata": {
    "ExecuteTime": {
     "end_time": "2024-12-03T12:40:41.455037Z",
     "start_time": "2024-12-03T12:40:41.447761Z"
    }
   },
   "cell_type": "code",
   "source": [
    "power['country_long'] = power['country_long'].str.lower()\n",
    "\n",
    "country_mapping = {\n",
    "    'united states': 'usa',\n",
    "    'united kingdom': 'uk',\n",
    "}\n",
    "\n",
    "power['country_long'] = power['country_long'].replace(country_mapping)"
   ],
   "id": "12d2df586cce24e8",
   "outputs": [],
   "execution_count": 8
  },
  {
   "metadata": {
    "ExecuteTime": {
     "end_time": "2024-12-03T12:40:41.479355Z",
     "start_time": "2024-12-03T12:40:41.475128Z"
    }
   },
   "cell_type": "code",
   "source": "power.isnull().sum()",
   "id": "755f5a5a712495e7",
   "outputs": [
    {
     "data": {
      "text/plain": [
       "country_long    0\n",
       "capacity_mw     0\n",
       "latitude        0\n",
       "longitude       0\n",
       "primary_fuel    0\n",
       "dtype: int64"
      ]
     },
     "execution_count": 9,
     "metadata": {},
     "output_type": "execute_result"
    }
   ],
   "execution_count": 9
  },
  {
   "metadata": {
    "ExecuteTime": {
     "end_time": "2024-12-03T12:40:41.571829Z",
     "start_time": "2024-12-03T12:40:41.516248Z"
    }
   },
   "cell_type": "code",
   "source": "power.to_csv('power_plants_updated.csv', index=False)",
   "id": "1ecc08227427dbbe",
   "outputs": [],
   "execution_count": 10
  },
  {
   "metadata": {},
   "cell_type": "markdown",
   "source": "## 🌫️ AQI data preparing",
   "id": "64290f0b00305678"
  },
  {
   "metadata": {
    "ExecuteTime": {
     "end_time": "2024-12-03T12:40:41.596918Z",
     "start_time": "2024-12-03T12:40:41.590402Z"
    }
   },
   "cell_type": "code",
   "source": [
    "# Display general info for each DataFrame\n",
    "print(\"Air Data AQI Information:\")\n",
    "print(airdata_aqi.info())\n",
    "print(\"\\nAir Data Country Information:\")\n",
    "print(airdata_country.info())\n",
    "print(\"\\nAir Data Date Information:\")\n",
    "print(airdata_date.info())"
   ],
   "id": "65f1d37e1d715107",
   "outputs": [
    {
     "name": "stdout",
     "output_type": "stream",
     "text": [
      "Air Data AQI Information:\n",
      "<class 'pandas.core.frame.DataFrame'>\n",
      "RangeIndex: 16409 entries, 0 to 16408\n",
      "Data columns (total 1 columns):\n",
      " #   Column     Non-Null Count  Dtype\n",
      "---  ------     --------------  -----\n",
      " 0   AQI Value  16409 non-null  int64\n",
      "dtypes: int64(1)\n",
      "memory usage: 128.3 KB\n",
      "None\n",
      "\n",
      "Air Data Country Information:\n",
      "<class 'pandas.core.frame.DataFrame'>\n",
      "RangeIndex: 16409 entries, 0 to 16408\n",
      "Data columns (total 1 columns):\n",
      " #   Column   Non-Null Count  Dtype \n",
      "---  ------   --------------  ----- \n",
      " 0   Country  16409 non-null  object\n",
      "dtypes: object(1)\n",
      "memory usage: 128.3+ KB\n",
      "None\n",
      "\n",
      "Air Data Date Information:\n",
      "<class 'pandas.core.frame.DataFrame'>\n",
      "RangeIndex: 16409 entries, 0 to 16408\n",
      "Data columns (total 1 columns):\n",
      " #   Column  Non-Null Count  Dtype \n",
      "---  ------  --------------  ----- \n",
      " 0   Date    16409 non-null  object\n",
      "dtypes: object(1)\n",
      "memory usage: 128.3+ KB\n",
      "None\n"
     ]
    }
   ],
   "execution_count": 11
  },
  {
   "metadata": {
    "ExecuteTime": {
     "end_time": "2024-12-03T12:40:41.614144Z",
     "start_time": "2024-12-03T12:40:41.605208Z"
    }
   },
   "cell_type": "code",
   "source": [
    "airdata_country['Country'] = airdata_country['Country'].str.lower()\n",
    "\n",
    "country_mapping = {\n",
    "    'united states': 'usa',\n",
    "    'united kingdom': 'uk',\n",
    "}\n",
    "\n",
    "airdata_country['Country'] = airdata_country['Country'].replace(country_mapping)\n",
    "\n",
    "airdata_date['Date'] = pd.to_datetime(airdata_date['Date'], errors='coerce')"
   ],
   "id": "6c4a5ff477d1a0af",
   "outputs": [],
   "execution_count": 12
  },
  {
   "metadata": {
    "ExecuteTime": {
     "end_time": "2024-12-03T12:40:41.636653Z",
     "start_time": "2024-12-03T12:40:41.634563Z"
    }
   },
   "cell_type": "code",
   "source": [
    "print(\"\\nNull Values in Air Data AQI:\")\n",
    "print(airdata_aqi.isnull().sum())"
   ],
   "id": "9a606a662bba19cd",
   "outputs": [
    {
     "name": "stdout",
     "output_type": "stream",
     "text": [
      "\n",
      "Null Values in Air Data AQI:\n",
      "AQI Value    0\n",
      "dtype: int64\n"
     ]
    }
   ],
   "execution_count": 13
  },
  {
   "metadata": {
    "ExecuteTime": {
     "end_time": "2024-12-03T12:40:41.662178Z",
     "start_time": "2024-12-03T12:40:41.658582Z"
    }
   },
   "cell_type": "code",
   "source": [
    "print(\"\\nNull Values in Air Data Country:\")\n",
    "print(airdata_country.isnull().sum())"
   ],
   "id": "bd0f7cb0d69f228",
   "outputs": [
    {
     "name": "stdout",
     "output_type": "stream",
     "text": [
      "\n",
      "Null Values in Air Data Country:\n",
      "Country    0\n",
      "dtype: int64\n"
     ]
    }
   ],
   "execution_count": 14
  },
  {
   "metadata": {
    "ExecuteTime": {
     "end_time": "2024-12-03T12:40:41.687577Z",
     "start_time": "2024-12-03T12:40:41.685452Z"
    }
   },
   "cell_type": "code",
   "source": [
    "print(\"\\nNull Values in Air Data Date:\")\n",
    "print(airdata_date.isnull().sum())"
   ],
   "id": "425611a352c3e44c",
   "outputs": [
    {
     "name": "stdout",
     "output_type": "stream",
     "text": [
      "\n",
      "Null Values in Air Data Date:\n",
      "Date    0\n",
      "dtype: int64\n"
     ]
    }
   ],
   "execution_count": 15
  },
  {
   "metadata": {
    "ExecuteTime": {
     "end_time": "2024-12-03T12:40:41.732888Z",
     "start_time": "2024-12-03T12:40:41.713246Z"
    }
   },
   "cell_type": "code",
   "source": [
    "airdata_aqi.to_csv('aqi-data/airdata_aqi_updated.csv', index=False)\n",
    "airdata_country.to_csv('aqi-data/airdata_country_updated.csv', index=False)\n",
    "airdata_date.to_csv('aqi-data/airdata_date_updated.csv', index=False)"
   ],
   "id": "b7e6c80e31756977",
   "outputs": [],
   "execution_count": 16
  },
  {
   "metadata": {},
   "cell_type": "markdown",
   "source": "## 👥 HDI data preparing",
   "id": "66de3ae3e3e625b6"
  },
  {
   "metadata": {
    "ExecuteTime": {
     "end_time": "2024-12-03T12:40:41.762356Z",
     "start_time": "2024-12-03T12:40:41.752554Z"
    }
   },
   "cell_type": "code",
   "source": [
    "# Display general info for each DataFrame\n",
    "print(\"HDI Data Demographics Information:\")\n",
    "print(hdidata_demographics.info())\n",
    "print(\"\\nHDI Data CO2 Emissions Information:\")\n",
    "print(hdidata_co2.info())\n",
    "print(\"\\nHDI Data Income Information:\")\n",
    "print(hdidata_income.info())\n",
    "print(\"\\nHDI Data HDI Information:\")\n",
    "print(hdidata_hdi.info())\n",
    "print(\"\\nHDI Data Life Expectancy Information:\")\n",
    "print(hdidata_life_expectancy.info())"
   ],
   "id": "5b600950c9be380f",
   "outputs": [
    {
     "name": "stdout",
     "output_type": "stream",
     "text": [
      "HDI Data Demographics Information:\n",
      "<class 'pandas.core.frame.DataFrame'>\n",
      "RangeIndex: 195 entries, 0 to 194\n",
      "Data columns (total 6 columns):\n",
      " #   Column                           Non-Null Count  Dtype  \n",
      "---  ------                           --------------  -----  \n",
      " 0   ISO3                             195 non-null    object \n",
      " 1   Country                          195 non-null    object \n",
      " 2   Human Development Groups         191 non-null    object \n",
      " 3   UNDP Developing Regions          151 non-null    object \n",
      " 4   HDI Rank (2021)                  191 non-null    float64\n",
      " 5   Difference from HDI rank (2021)  155 non-null    float64\n",
      "dtypes: float64(2), object(4)\n",
      "memory usage: 9.3+ KB\n",
      "None\n",
      "\n",
      "HDI Data CO2 Emissions Information:\n",
      "<class 'pandas.core.frame.DataFrame'>\n",
      "RangeIndex: 195 entries, 0 to 194\n",
      "Data columns (total 32 columns):\n",
      " #   Column                                                            Non-Null Count  Dtype  \n",
      "---  ------                                                            --------------  -----  \n",
      " 0   Carbon dioxide emissions per capita (production) (tonnes) (1990)  187 non-null    float64\n",
      " 1   Carbon dioxide emissions per capita (production) (tonnes) (1991)  188 non-null    float64\n",
      " 2   Carbon dioxide emissions per capita (production) (tonnes) (1992)  191 non-null    float64\n",
      " 3   Carbon dioxide emissions per capita (production) (tonnes) (1993)  191 non-null    float64\n",
      " 4   Carbon dioxide emissions per capita (production) (tonnes) (1994)  192 non-null    float64\n",
      " 5   Carbon dioxide emissions per capita (production) (tonnes) (1995)  192 non-null    float64\n",
      " 6   Carbon dioxide emissions per capita (production) (tonnes) (1996)  192 non-null    float64\n",
      " 7   Carbon dioxide emissions per capita (production) (tonnes) (1997)  192 non-null    float64\n",
      " 8   Carbon dioxide emissions per capita (production) (tonnes) (1998)  192 non-null    float64\n",
      " 9   Carbon dioxide emissions per capita (production) (tonnes) (1999)  192 non-null    float64\n",
      " 10  Carbon dioxide emissions per capita (production) (tonnes) (2000)  192 non-null    float64\n",
      " 11  Carbon dioxide emissions per capita (production) (tonnes) (2001)  192 non-null    float64\n",
      " 12  Carbon dioxide emissions per capita (production) (tonnes) (2002)  193 non-null    float64\n",
      " 13  Carbon dioxide emissions per capita (production) (tonnes) (2003)  193 non-null    float64\n",
      " 14  Carbon dioxide emissions per capita (production) (tonnes) (2004)  193 non-null    float64\n",
      " 15  Carbon dioxide emissions per capita (production) (tonnes) (2005)  193 non-null    float64\n",
      " 16  Carbon dioxide emissions per capita (production) (tonnes) (2006)  193 non-null    float64\n",
      " 17  Carbon dioxide emissions per capita (production) (tonnes) (2007)  193 non-null    float64\n",
      " 18  Carbon dioxide emissions per capita (production) (tonnes) (2008)  193 non-null    float64\n",
      " 19  Carbon dioxide emissions per capita (production) (tonnes) (2009)  193 non-null    float64\n",
      " 20  Carbon dioxide emissions per capita (production) (tonnes) (2010)  193 non-null    float64\n",
      " 21  Carbon dioxide emissions per capita (production) (tonnes) (2011)  193 non-null    float64\n",
      " 22  Carbon dioxide emissions per capita (production) (tonnes) (2012)  193 non-null    float64\n",
      " 23  Carbon dioxide emissions per capita (production) (tonnes) (2013)  193 non-null    float64\n",
      " 24  Carbon dioxide emissions per capita (production) (tonnes) (2014)  193 non-null    float64\n",
      " 25  Carbon dioxide emissions per capita (production) (tonnes) (2015)  193 non-null    float64\n",
      " 26  Carbon dioxide emissions per capita (production) (tonnes) (2016)  193 non-null    float64\n",
      " 27  Carbon dioxide emissions per capita (production) (tonnes) (2017)  193 non-null    float64\n",
      " 28  Carbon dioxide emissions per capita (production) (tonnes) (2018)  193 non-null    float64\n",
      " 29  Carbon dioxide emissions per capita (production) (tonnes) (2019)  193 non-null    float64\n",
      " 30  Carbon dioxide emissions per capita (production) (tonnes) (2020)  193 non-null    float64\n",
      " 31  Carbon dioxide emissions per capita (production) (tonnes) (2021)  193 non-null    float64\n",
      "dtypes: float64(32)\n",
      "memory usage: 48.9 KB\n",
      "None\n",
      "\n",
      "HDI Data Income Information:\n",
      "<class 'pandas.core.frame.DataFrame'>\n",
      "RangeIndex: 195 entries, 0 to 194\n",
      "Data columns (total 32 columns):\n",
      " #   Column                                   Non-Null Count  Dtype  \n",
      "---  ------                                   --------------  -----  \n",
      " 0   Gross National Income Per Capita (1990)  184 non-null    float64\n",
      " 1   Gross National Income Per Capita (1991)  184 non-null    float64\n",
      " 2   Gross National Income Per Capita (1992)  184 non-null    float64\n",
      " 3   Gross National Income Per Capita (1993)  184 non-null    float64\n",
      " 4   Gross National Income Per Capita (1994)  184 non-null    float64\n",
      " 5   Gross National Income Per Capita (1995)  191 non-null    float64\n",
      " 6   Gross National Income Per Capita (1996)  191 non-null    float64\n",
      " 7   Gross National Income Per Capita (1997)  191 non-null    float64\n",
      " 8   Gross National Income Per Capita (1998)  191 non-null    float64\n",
      " 9   Gross National Income Per Capita (1999)  191 non-null    float64\n",
      " 10  Gross National Income Per Capita (2000)  191 non-null    float64\n",
      " 11  Gross National Income Per Capita (2001)  191 non-null    float64\n",
      " 12  Gross National Income Per Capita (2002)  191 non-null    float64\n",
      " 13  Gross National Income Per Capita (2003)  191 non-null    float64\n",
      " 14  Gross National Income Per Capita (2004)  191 non-null    float64\n",
      " 15  Gross National Income Per Capita (2005)  192 non-null    float64\n",
      " 16  Gross National Income Per Capita (2006)  192 non-null    float64\n",
      " 17  Gross National Income Per Capita (2007)  192 non-null    float64\n",
      " 18  Gross National Income Per Capita (2008)  193 non-null    float64\n",
      " 19  Gross National Income Per Capita (2009)  193 non-null    float64\n",
      " 20  Gross National Income Per Capita (2010)  193 non-null    float64\n",
      " 21  Gross National Income Per Capita (2011)  193 non-null    float64\n",
      " 22  Gross National Income Per Capita (2012)  193 non-null    float64\n",
      " 23  Gross National Income Per Capita (2013)  193 non-null    float64\n",
      " 24  Gross National Income Per Capita (2014)  193 non-null    float64\n",
      " 25  Gross National Income Per Capita (2015)  193 non-null    float64\n",
      " 26  Gross National Income Per Capita (2016)  193 non-null    float64\n",
      " 27  Gross National Income Per Capita (2017)  193 non-null    float64\n",
      " 28  Gross National Income Per Capita (2018)  193 non-null    float64\n",
      " 29  Gross National Income Per Capita (2019)  193 non-null    float64\n",
      " 30  Gross National Income Per Capita (2020)  193 non-null    float64\n",
      " 31  Gross National Income Per Capita (2021)  193 non-null    float64\n",
      "dtypes: float64(32)\n",
      "memory usage: 48.9 KB\n",
      "None\n",
      "\n",
      "HDI Data HDI Information:\n",
      "<class 'pandas.core.frame.DataFrame'>\n",
      "RangeIndex: 195 entries, 0 to 194\n",
      "Data columns (total 32 columns):\n",
      " #   Column                          Non-Null Count  Dtype  \n",
      "---  ------                          --------------  -----  \n",
      " 0   Human Development Index (1990)  141 non-null    float64\n",
      " 1   Human Development Index (1991)  141 non-null    float64\n",
      " 2   Human Development Index (1992)  141 non-null    float64\n",
      " 3   Human Development Index (1993)  141 non-null    float64\n",
      " 4   Human Development Index (1994)  141 non-null    float64\n",
      " 5   Human Development Index (1995)  152 non-null    float64\n",
      " 6   Human Development Index (1996)  152 non-null    float64\n",
      " 7   Human Development Index (1997)  152 non-null    float64\n",
      " 8   Human Development Index (1998)  152 non-null    float64\n",
      " 9   Human Development Index (1999)  157 non-null    float64\n",
      " 10  Human Development Index (2000)  174 non-null    float64\n",
      " 11  Human Development Index (2001)  174 non-null    float64\n",
      " 12  Human Development Index (2002)  177 non-null    float64\n",
      " 13  Human Development Index (2003)  179 non-null    float64\n",
      " 14  Human Development Index (2004)  181 non-null    float64\n",
      " 15  Human Development Index (2005)  186 non-null    float64\n",
      " 16  Human Development Index (2006)  186 non-null    float64\n",
      " 17  Human Development Index (2007)  187 non-null    float64\n",
      " 18  Human Development Index (2008)  187 non-null    float64\n",
      " 19  Human Development Index (2009)  187 non-null    float64\n",
      " 20  Human Development Index (2010)  189 non-null    float64\n",
      " 21  Human Development Index (2011)  190 non-null    float64\n",
      " 22  Human Development Index (2012)  190 non-null    float64\n",
      " 23  Human Development Index (2013)  190 non-null    float64\n",
      " 24  Human Development Index (2014)  190 non-null    float64\n",
      " 25  Human Development Index (2015)  190 non-null    float64\n",
      " 26  Human Development Index (2016)  190 non-null    float64\n",
      " 27  Human Development Index (2017)  190 non-null    float64\n",
      " 28  Human Development Index (2018)  191 non-null    float64\n",
      " 29  Human Development Index (2019)  191 non-null    float64\n",
      " 30  Human Development Index (2020)  191 non-null    float64\n",
      " 31  Human Development Index (2021)  191 non-null    float64\n",
      "dtypes: float64(32)\n",
      "memory usage: 48.9 KB\n",
      "None\n",
      "\n",
      "HDI Data Life Expectancy Information:\n",
      "<class 'pandas.core.frame.DataFrame'>\n",
      "RangeIndex: 195 entries, 0 to 194\n",
      "Data columns (total 32 columns):\n",
      " #   Column                           Non-Null Count  Dtype  \n",
      "---  ------                           --------------  -----  \n",
      " 0   Life Expectancy at Birth (1990)  195 non-null    float64\n",
      " 1   Life Expectancy at Birth (1991)  195 non-null    float64\n",
      " 2   Life Expectancy at Birth (1992)  195 non-null    float64\n",
      " 3   Life Expectancy at Birth (1993)  195 non-null    float64\n",
      " 4   Life Expectancy at Birth (1994)  195 non-null    float64\n",
      " 5   Life Expectancy at Birth (1995)  195 non-null    float64\n",
      " 6   Life Expectancy at Birth (1996)  195 non-null    float64\n",
      " 7   Life Expectancy at Birth (1997)  195 non-null    float64\n",
      " 8   Life Expectancy at Birth (1998)  195 non-null    float64\n",
      " 9   Life Expectancy at Birth (1999)  195 non-null    float64\n",
      " 10  Life Expectancy at Birth (2000)  195 non-null    float64\n",
      " 11  Life Expectancy at Birth (2001)  195 non-null    float64\n",
      " 12  Life Expectancy at Birth (2002)  195 non-null    float64\n",
      " 13  Life Expectancy at Birth (2003)  195 non-null    float64\n",
      " 14  Life Expectancy at Birth (2004)  195 non-null    float64\n",
      " 15  Life Expectancy at Birth (2005)  195 non-null    float64\n",
      " 16  Life Expectancy at Birth (2006)  195 non-null    float64\n",
      " 17  Life Expectancy at Birth (2007)  195 non-null    float64\n",
      " 18  Life Expectancy at Birth (2008)  195 non-null    float64\n",
      " 19  Life Expectancy at Birth (2009)  195 non-null    float64\n",
      " 20  Life Expectancy at Birth (2010)  195 non-null    float64\n",
      " 21  Life Expectancy at Birth (2011)  195 non-null    float64\n",
      " 22  Life Expectancy at Birth (2012)  195 non-null    float64\n",
      " 23  Life Expectancy at Birth (2013)  195 non-null    float64\n",
      " 24  Life Expectancy at Birth (2014)  195 non-null    float64\n",
      " 25  Life Expectancy at Birth (2015)  195 non-null    float64\n",
      " 26  Life Expectancy at Birth (2016)  195 non-null    float64\n",
      " 27  Life Expectancy at Birth (2017)  195 non-null    float64\n",
      " 28  Life Expectancy at Birth (2018)  195 non-null    float64\n",
      " 29  Life Expectancy at Birth (2019)  195 non-null    float64\n",
      " 30  Life Expectancy at Birth (2020)  195 non-null    float64\n",
      " 31  Life Expectancy at Birth (2021)  195 non-null    float64\n",
      "dtypes: float64(32)\n",
      "memory usage: 48.9 KB\n",
      "None\n"
     ]
    }
   ],
   "execution_count": 17
  },
  {
   "metadata": {
    "ExecuteTime": {
     "end_time": "2024-12-03T12:40:41.785333Z",
     "start_time": "2024-12-03T12:40:41.782906Z"
    }
   },
   "cell_type": "code",
   "source": [
    "print(\"\\nNull Values in HDI Data Demographics:\")\n",
    "print(hdidata_demographics.isnull().sum())"
   ],
   "id": "7c93dc5133d53fa3",
   "outputs": [
    {
     "name": "stdout",
     "output_type": "stream",
     "text": [
      "\n",
      "Null Values in HDI Data Demographics:\n",
      "ISO3                                0\n",
      "Country                             0\n",
      "Human Development Groups            4\n",
      "UNDP Developing Regions            44\n",
      "HDI Rank (2021)                     4\n",
      "Difference from HDI rank (2021)    40\n",
      "dtype: int64\n"
     ]
    }
   ],
   "execution_count": 18
  },
  {
   "metadata": {
    "ExecuteTime": {
     "end_time": "2024-12-03T12:40:41.808807Z",
     "start_time": "2024-12-03T12:40:41.805631Z"
    }
   },
   "cell_type": "code",
   "source": [
    "print(\"\\nNull Values in HDI Data CO2 Emissions:\")\n",
    "print(hdidata_co2.isnull().sum())"
   ],
   "id": "f7b09fd96ed5b85f",
   "outputs": [
    {
     "name": "stdout",
     "output_type": "stream",
     "text": [
      "\n",
      "Null Values in HDI Data CO2 Emissions:\n",
      "Carbon dioxide emissions per capita (production) (tonnes) (1990)    8\n",
      "Carbon dioxide emissions per capita (production) (tonnes) (1991)    7\n",
      "Carbon dioxide emissions per capita (production) (tonnes) (1992)    4\n",
      "Carbon dioxide emissions per capita (production) (tonnes) (1993)    4\n",
      "Carbon dioxide emissions per capita (production) (tonnes) (1994)    3\n",
      "Carbon dioxide emissions per capita (production) (tonnes) (1995)    3\n",
      "Carbon dioxide emissions per capita (production) (tonnes) (1996)    3\n",
      "Carbon dioxide emissions per capita (production) (tonnes) (1997)    3\n",
      "Carbon dioxide emissions per capita (production) (tonnes) (1998)    3\n",
      "Carbon dioxide emissions per capita (production) (tonnes) (1999)    3\n",
      "Carbon dioxide emissions per capita (production) (tonnes) (2000)    3\n",
      "Carbon dioxide emissions per capita (production) (tonnes) (2001)    3\n",
      "Carbon dioxide emissions per capita (production) (tonnes) (2002)    2\n",
      "Carbon dioxide emissions per capita (production) (tonnes) (2003)    2\n",
      "Carbon dioxide emissions per capita (production) (tonnes) (2004)    2\n",
      "Carbon dioxide emissions per capita (production) (tonnes) (2005)    2\n",
      "Carbon dioxide emissions per capita (production) (tonnes) (2006)    2\n",
      "Carbon dioxide emissions per capita (production) (tonnes) (2007)    2\n",
      "Carbon dioxide emissions per capita (production) (tonnes) (2008)    2\n",
      "Carbon dioxide emissions per capita (production) (tonnes) (2009)    2\n",
      "Carbon dioxide emissions per capita (production) (tonnes) (2010)    2\n",
      "Carbon dioxide emissions per capita (production) (tonnes) (2011)    2\n",
      "Carbon dioxide emissions per capita (production) (tonnes) (2012)    2\n",
      "Carbon dioxide emissions per capita (production) (tonnes) (2013)    2\n",
      "Carbon dioxide emissions per capita (production) (tonnes) (2014)    2\n",
      "Carbon dioxide emissions per capita (production) (tonnes) (2015)    2\n",
      "Carbon dioxide emissions per capita (production) (tonnes) (2016)    2\n",
      "Carbon dioxide emissions per capita (production) (tonnes) (2017)    2\n",
      "Carbon dioxide emissions per capita (production) (tonnes) (2018)    2\n",
      "Carbon dioxide emissions per capita (production) (tonnes) (2019)    2\n",
      "Carbon dioxide emissions per capita (production) (tonnes) (2020)    2\n",
      "Carbon dioxide emissions per capita (production) (tonnes) (2021)    2\n",
      "dtype: int64\n"
     ]
    }
   ],
   "execution_count": 19
  },
  {
   "metadata": {
    "ExecuteTime": {
     "end_time": "2024-12-03T12:40:41.851631Z",
     "start_time": "2024-12-03T12:40:41.849511Z"
    }
   },
   "cell_type": "code",
   "source": [
    "print(\"\\nNull Values in HDI Data Income:\")\n",
    "print(hdidata_income.isnull().sum())"
   ],
   "id": "b842cf1efdfb215f",
   "outputs": [
    {
     "name": "stdout",
     "output_type": "stream",
     "text": [
      "\n",
      "Null Values in HDI Data Income:\n",
      "Gross National Income Per Capita (1990)    11\n",
      "Gross National Income Per Capita (1991)    11\n",
      "Gross National Income Per Capita (1992)    11\n",
      "Gross National Income Per Capita (1993)    11\n",
      "Gross National Income Per Capita (1994)    11\n",
      "Gross National Income Per Capita (1995)     4\n",
      "Gross National Income Per Capita (1996)     4\n",
      "Gross National Income Per Capita (1997)     4\n",
      "Gross National Income Per Capita (1998)     4\n",
      "Gross National Income Per Capita (1999)     4\n",
      "Gross National Income Per Capita (2000)     4\n",
      "Gross National Income Per Capita (2001)     4\n",
      "Gross National Income Per Capita (2002)     4\n",
      "Gross National Income Per Capita (2003)     4\n",
      "Gross National Income Per Capita (2004)     4\n",
      "Gross National Income Per Capita (2005)     3\n",
      "Gross National Income Per Capita (2006)     3\n",
      "Gross National Income Per Capita (2007)     3\n",
      "Gross National Income Per Capita (2008)     2\n",
      "Gross National Income Per Capita (2009)     2\n",
      "Gross National Income Per Capita (2010)     2\n",
      "Gross National Income Per Capita (2011)     2\n",
      "Gross National Income Per Capita (2012)     2\n",
      "Gross National Income Per Capita (2013)     2\n",
      "Gross National Income Per Capita (2014)     2\n",
      "Gross National Income Per Capita (2015)     2\n",
      "Gross National Income Per Capita (2016)     2\n",
      "Gross National Income Per Capita (2017)     2\n",
      "Gross National Income Per Capita (2018)     2\n",
      "Gross National Income Per Capita (2019)     2\n",
      "Gross National Income Per Capita (2020)     2\n",
      "Gross National Income Per Capita (2021)     2\n",
      "dtype: int64\n"
     ]
    }
   ],
   "execution_count": 20
  },
  {
   "metadata": {
    "ExecuteTime": {
     "end_time": "2024-12-03T12:40:41.859067Z",
     "start_time": "2024-12-03T12:40:41.856929Z"
    }
   },
   "cell_type": "code",
   "source": [
    "print(\"\\nNull Values in HDI Data HDI:\")\n",
    "print(hdidata_hdi.isnull().sum())"
   ],
   "id": "5592b313e95d7a9f",
   "outputs": [
    {
     "name": "stdout",
     "output_type": "stream",
     "text": [
      "\n",
      "Null Values in HDI Data HDI:\n",
      "Human Development Index (1990)    54\n",
      "Human Development Index (1991)    54\n",
      "Human Development Index (1992)    54\n",
      "Human Development Index (1993)    54\n",
      "Human Development Index (1994)    54\n",
      "Human Development Index (1995)    43\n",
      "Human Development Index (1996)    43\n",
      "Human Development Index (1997)    43\n",
      "Human Development Index (1998)    43\n",
      "Human Development Index (1999)    38\n",
      "Human Development Index (2000)    21\n",
      "Human Development Index (2001)    21\n",
      "Human Development Index (2002)    18\n",
      "Human Development Index (2003)    16\n",
      "Human Development Index (2004)    14\n",
      "Human Development Index (2005)     9\n",
      "Human Development Index (2006)     9\n",
      "Human Development Index (2007)     8\n",
      "Human Development Index (2008)     8\n",
      "Human Development Index (2009)     8\n",
      "Human Development Index (2010)     6\n",
      "Human Development Index (2011)     5\n",
      "Human Development Index (2012)     5\n",
      "Human Development Index (2013)     5\n",
      "Human Development Index (2014)     5\n",
      "Human Development Index (2015)     5\n",
      "Human Development Index (2016)     5\n",
      "Human Development Index (2017)     5\n",
      "Human Development Index (2018)     4\n",
      "Human Development Index (2019)     4\n",
      "Human Development Index (2020)     4\n",
      "Human Development Index (2021)     4\n",
      "dtype: int64\n"
     ]
    }
   ],
   "execution_count": 21
  },
  {
   "metadata": {
    "ExecuteTime": {
     "end_time": "2024-12-03T12:40:41.883119Z",
     "start_time": "2024-12-03T12:40:41.880825Z"
    }
   },
   "cell_type": "code",
   "source": [
    "print(\"\\nNull Values in HDI Data Life Expectancy:\")\n",
    "print(hdidata_life_expectancy.isnull().sum())"
   ],
   "id": "a0b0762dd0b16788",
   "outputs": [
    {
     "name": "stdout",
     "output_type": "stream",
     "text": [
      "\n",
      "Null Values in HDI Data Life Expectancy:\n",
      "Life Expectancy at Birth (1990)    0\n",
      "Life Expectancy at Birth (1991)    0\n",
      "Life Expectancy at Birth (1992)    0\n",
      "Life Expectancy at Birth (1993)    0\n",
      "Life Expectancy at Birth (1994)    0\n",
      "Life Expectancy at Birth (1995)    0\n",
      "Life Expectancy at Birth (1996)    0\n",
      "Life Expectancy at Birth (1997)    0\n",
      "Life Expectancy at Birth (1998)    0\n",
      "Life Expectancy at Birth (1999)    0\n",
      "Life Expectancy at Birth (2000)    0\n",
      "Life Expectancy at Birth (2001)    0\n",
      "Life Expectancy at Birth (2002)    0\n",
      "Life Expectancy at Birth (2003)    0\n",
      "Life Expectancy at Birth (2004)    0\n",
      "Life Expectancy at Birth (2005)    0\n",
      "Life Expectancy at Birth (2006)    0\n",
      "Life Expectancy at Birth (2007)    0\n",
      "Life Expectancy at Birth (2008)    0\n",
      "Life Expectancy at Birth (2009)    0\n",
      "Life Expectancy at Birth (2010)    0\n",
      "Life Expectancy at Birth (2011)    0\n",
      "Life Expectancy at Birth (2012)    0\n",
      "Life Expectancy at Birth (2013)    0\n",
      "Life Expectancy at Birth (2014)    0\n",
      "Life Expectancy at Birth (2015)    0\n",
      "Life Expectancy at Birth (2016)    0\n",
      "Life Expectancy at Birth (2017)    0\n",
      "Life Expectancy at Birth (2018)    0\n",
      "Life Expectancy at Birth (2019)    0\n",
      "Life Expectancy at Birth (2020)    0\n",
      "Life Expectancy at Birth (2021)    0\n",
      "dtype: int64\n"
     ]
    }
   ],
   "execution_count": 22
  },
  {
   "metadata": {
    "ExecuteTime": {
     "end_time": "2024-12-03T12:40:41.907361Z",
     "start_time": "2024-12-03T12:40:41.904107Z"
    }
   },
   "cell_type": "code",
   "source": [
    "columns_to_keep_demo = ['Country']\n",
    "columns_to_keep_co2 = ['Carbon dioxide emissions per capita (production) (tonnes) (2005)', 'Carbon dioxide emissions per capita (production) (tonnes) (2006)', 'Carbon dioxide emissions per capita (production) (tonnes) (2007)', 'Carbon dioxide emissions per capita (production) (tonnes) (2008)', 'Carbon dioxide emissions per capita (production) (tonnes) (2009)', 'Carbon dioxide emissions per capita (production) (tonnes) (2010)', 'Carbon dioxide emissions per capita (production) (tonnes) (2011)', 'Carbon dioxide emissions per capita (production) (tonnes) (2012)', 'Carbon dioxide emissions per capita (production) (tonnes) (2013)', 'Carbon dioxide emissions per capita (production) (tonnes) (2014)', 'Carbon dioxide emissions per capita (production) (tonnes) (2015)', 'Carbon dioxide emissions per capita (production) (tonnes) (2016)', 'Carbon dioxide emissions per capita (production) (tonnes) (2017)', 'Carbon dioxide emissions per capita (production) (tonnes) (2018)', 'Carbon dioxide emissions per capita (production) (tonnes) (2019)']\n",
    "columns_to_keep_income = ['Gross National Income Per Capita (2005)', 'Gross National Income Per Capita (2006)', 'Gross National Income Per Capita (2007)', 'Gross National Income Per Capita (2008)', 'Gross National Income Per Capita (2009)', 'Gross National Income Per Capita (2010)', 'Gross National Income Per Capita (2011)', 'Gross National Income Per Capita (2012)', 'Gross National Income Per Capita (2013)', 'Gross National Income Per Capita (2014)', 'Gross National Income Per Capita (2015)', 'Gross National Income Per Capita (2016)', 'Gross National Income Per Capita (2017)', 'Gross National Income Per Capita (2018)', 'Gross National Income Per Capita (2019)']\n",
    "columns_to_keep_hdi = ['Human Development Index (2005)', 'Human Development Index (2006)', 'Human Development Index (2007)', 'Human Development Index (2008)', 'Human Development Index (2009)', 'Human Development Index (2010)', 'Human Development Index (2011)', 'Human Development Index (2012)', 'Human Development Index (2013)', 'Human Development Index (2014)', 'Human Development Index (2015)', 'Human Development Index (2016)', 'Human Development Index (2017)', 'Human Development Index (2018)', 'Human Development Index (2019)']\n",
    "columns_to_keep_life_expectancy = ['Life Expectancy at Birth (2005)', 'Life Expectancy at Birth (2006)', 'Life Expectancy at Birth (2007)', 'Life Expectancy at Birth (2008)', 'Life Expectancy at Birth (2009)', 'Life Expectancy at Birth (2010)', 'Life Expectancy at Birth (2011)', 'Life Expectancy at Birth (2012)', 'Life Expectancy at Birth (2013)', 'Life Expectancy at Birth (2014)', 'Life Expectancy at Birth (2015)', 'Life Expectancy at Birth (2016)', 'Life Expectancy at Birth (2017)', 'Life Expectancy at Birth (2018)', 'Life Expectancy at Birth (2019)']"
   ],
   "id": "9e49c94ad6af044",
   "outputs": [],
   "execution_count": 23
  },
  {
   "metadata": {
    "ExecuteTime": {
     "end_time": "2024-12-03T12:40:41.930062Z",
     "start_time": "2024-12-03T12:40:41.927447Z"
    }
   },
   "cell_type": "code",
   "source": [
    "hdidata_demographics = hdidata_demographics[columns_to_keep_demo]\n",
    "hdidata_co2 = hdidata_co2[columns_to_keep_co2]\n",
    "hdidata_income = hdidata_income[columns_to_keep_income]\n",
    "hdidata_hdi = hdidata_hdi[columns_to_keep_hdi]\n",
    "hdidata_life_expectancy = hdidata_life_expectancy[columns_to_keep_life_expectancy]"
   ],
   "id": "2f86fb619b97d3a8",
   "outputs": [],
   "execution_count": 24
  },
  {
   "metadata": {
    "ExecuteTime": {
     "end_time": "2024-12-03T12:40:41.950053Z",
     "start_time": "2024-12-03T12:40:41.946130Z"
    }
   },
   "cell_type": "code",
   "source": [
    "hdidata_co2 = pd.concat([hdidata_demographics, hdidata_co2])\n",
    "hdidata_income = pd.concat([hdidata_demographics, hdidata_income])\n",
    "hdidata_hdi = pd.concat([hdidata_demographics, hdidata_hdi])\n",
    "hdidata_life_expectancy = pd.concat([hdidata_demographics, hdidata_life_expectancy])"
   ],
   "id": "f7ca3f9f6d201fcd",
   "outputs": [],
   "execution_count": 25
  },
  {
   "metadata": {
    "ExecuteTime": {
     "end_time": "2024-12-03T12:40:41.973109Z",
     "start_time": "2024-12-03T12:40:41.965822Z"
    }
   },
   "cell_type": "code",
   "source": [
    "hdidata_co2_melted = pd.melt(hdidata_co2, \n",
    "                         id_vars=['Country'], \n",
    "                         value_vars=[col for col in hdidata_co2.columns if col != 'Country'],\n",
    "                         var_name='Year', \n",
    "                         value_name='Carbon dioxide emissions per capita (production) (tonnes)')\n",
    "\n",
    "hdidata_income_melted = pd.melt(hdidata_income, \n",
    "                         id_vars=['Country'], \n",
    "                         value_vars=[col for col in hdidata_income.columns if col != 'Country'],\n",
    "                         var_name='Year', \n",
    "                         value_name='Gross National Income Per Capita')\n",
    "\n",
    "hdidata_hdi_melted = pd.melt(hdidata_hdi, \n",
    "                         id_vars=['Country'], \n",
    "                         value_vars=[col for col in hdidata_hdi.columns if col != 'Country'],\n",
    "                         var_name='Year', \n",
    "                         value_name='HDI')\n",
    "\n",
    "hdidata_life_expectancy_melted = pd.melt(hdidata_life_expectancy, \n",
    "                         id_vars=['Country'], \n",
    "                         value_vars=[col for col in hdidata_life_expectancy.columns if col != 'Country'],\n",
    "                         var_name='Year', \n",
    "                         value_name='Life Expectancy at Birth')"
   ],
   "id": "b02e31eb02d440d1",
   "outputs": [],
   "execution_count": 26
  },
  {
   "metadata": {
    "ExecuteTime": {
     "end_time": "2024-12-03T12:40:41.993299Z",
     "start_time": "2024-12-03T12:40:41.991691Z"
    }
   },
   "cell_type": "code",
   "source": [
    "# Function to extract and clean the year column\n",
    "def extract_year(melted_df):\n",
    "    melted_df['Year'] = melted_df['Year'].str.extract(r'(\\d{4})')[0].astype(int)\n",
    "    return melted_df"
   ],
   "id": "91b115a7b77b44ff",
   "outputs": [],
   "execution_count": 27
  },
  {
   "metadata": {
    "ExecuteTime": {
     "end_time": "2024-12-03T12:40:42.052085Z",
     "start_time": "2024-12-03T12:40:42.011621Z"
    }
   },
   "cell_type": "code",
   "source": [
    "# Clean up the year column in each melted dataframe\n",
    "co2_melted = extract_year(hdidata_co2_melted)\n",
    "gni_melted = extract_year(hdidata_income_melted)\n",
    "hdi_melted = extract_year(hdidata_hdi_melted)\n",
    "life_expectancy_melted = extract_year(hdidata_life_expectancy_melted)"
   ],
   "id": "92ce48d12a77db75",
   "outputs": [],
   "execution_count": 28
  },
  {
   "metadata": {
    "ExecuteTime": {
     "end_time": "2024-12-03T12:40:42.081411Z",
     "start_time": "2024-12-03T12:40:42.073065Z"
    }
   },
   "cell_type": "code",
   "source": [
    "print(\"Changed HDI Data CO2 Emissions Information:\")\n",
    "print(co2_melted.info())\n",
    "print(\"\\nChanged HDI Data Income Information:\")\n",
    "print(gni_melted.info())\n",
    "print(\"\\nChanged HDI Data HDI Information:\")\n",
    "print(hdi_melted.info())\n",
    "print(\"\\nChanged HDI Data Life Expectancy Information:\")\n",
    "print(life_expectancy_melted.info())"
   ],
   "id": "38e2781be5ec445",
   "outputs": [
    {
     "name": "stdout",
     "output_type": "stream",
     "text": [
      "Changed HDI Data CO2 Emissions Information:\n",
      "<class 'pandas.core.frame.DataFrame'>\n",
      "RangeIndex: 5850 entries, 0 to 5849\n",
      "Data columns (total 3 columns):\n",
      " #   Column                                                     Non-Null Count  Dtype  \n",
      "---  ------                                                     --------------  -----  \n",
      " 0   Country                                                    2925 non-null   object \n",
      " 1   Year                                                       5850 non-null   int64  \n",
      " 2   Carbon dioxide emissions per capita (production) (tonnes)  2895 non-null   float64\n",
      "dtypes: float64(1), int64(1), object(1)\n",
      "memory usage: 137.2+ KB\n",
      "None\n",
      "\n",
      "Changed HDI Data Income Information:\n",
      "<class 'pandas.core.frame.DataFrame'>\n",
      "RangeIndex: 5850 entries, 0 to 5849\n",
      "Data columns (total 3 columns):\n",
      " #   Column                            Non-Null Count  Dtype  \n",
      "---  ------                            --------------  -----  \n",
      " 0   Country                           2925 non-null   object \n",
      " 1   Year                              5850 non-null   int64  \n",
      " 2   Gross National Income Per Capita  2892 non-null   float64\n",
      "dtypes: float64(1), int64(1), object(1)\n",
      "memory usage: 137.2+ KB\n",
      "None\n",
      "\n",
      "Changed HDI Data HDI Information:\n",
      "<class 'pandas.core.frame.DataFrame'>\n",
      "RangeIndex: 5850 entries, 0 to 5849\n",
      "Data columns (total 3 columns):\n",
      " #   Column   Non-Null Count  Dtype  \n",
      "---  ------   --------------  -----  \n",
      " 0   Country  2925 non-null   object \n",
      " 1   Year     5850 non-null   int64  \n",
      " 2   HDI      2834 non-null   float64\n",
      "dtypes: float64(1), int64(1), object(1)\n",
      "memory usage: 137.2+ KB\n",
      "None\n",
      "\n",
      "Changed HDI Data Life Expectancy Information:\n",
      "<class 'pandas.core.frame.DataFrame'>\n",
      "RangeIndex: 5850 entries, 0 to 5849\n",
      "Data columns (total 3 columns):\n",
      " #   Column                    Non-Null Count  Dtype  \n",
      "---  ------                    --------------  -----  \n",
      " 0   Country                   2925 non-null   object \n",
      " 1   Year                      5850 non-null   int64  \n",
      " 2   Life Expectancy at Birth  2925 non-null   float64\n",
      "dtypes: float64(1), int64(1), object(1)\n",
      "memory usage: 137.2+ KB\n",
      "None\n"
     ]
    }
   ],
   "execution_count": 29
  },
  {
   "metadata": {
    "ExecuteTime": {
     "end_time": "2024-12-03T12:40:42.153254Z",
     "start_time": "2024-12-03T12:40:42.146158Z"
    }
   },
   "cell_type": "code",
   "source": [
    "co2_melted['Country'] = co2_melted['Country'].str.lower()\n",
    "gni_melted['Country'] = gni_melted['Country'].str.lower()\n",
    "hdi_melted['Country'] = hdi_melted['Country'].str.lower()\n",
    "life_expectancy_melted['Country'] = life_expectancy_melted['Country'].str.lower()\n",
    "\n",
    "country_mapping = {\n",
    "    'united states': 'usa',\n",
    "    'united kingdom': 'uk',\n",
    "}\n",
    "\n",
    "co2_melted['Country'] = co2_melted['Country'].replace(country_mapping)\n",
    "gni_melted['Country'] = gni_melted['Country'].replace(country_mapping)\n",
    "hdi_melted['Country'] = hdi_melted['Country'].replace(country_mapping)\n",
    "life_expectancy_melted['Country'] = life_expectancy_melted['Country'].replace(country_mapping)"
   ],
   "id": "4f42f7d86b0363f5",
   "outputs": [],
   "execution_count": 30
  },
  {
   "metadata": {
    "ExecuteTime": {
     "end_time": "2024-12-03T12:40:42.195822Z",
     "start_time": "2024-12-03T12:40:42.176576Z"
    }
   },
   "cell_type": "code",
   "source": [
    "co2_melted.to_csv('hdi-datas-collection/co2_updated.csv', index=False)\n",
    "gni_melted.to_csv('hdi-datas-collection/gni_updated.csv', index=False)\n",
    "hdi_melted.to_csv('hdi-datas-collection/hdi_updated.csv', index=False)\n",
    "life_expectancy_melted.to_csv('hdi-datas-collection/life_expectancy_updated.csv', index=False)"
   ],
   "id": "9624dc046fc85664",
   "outputs": [],
   "execution_count": 31
  }
 ],
 "metadata": {
  "kernelspec": {
   "display_name": "Python 3",
   "language": "python",
   "name": "python3"
  },
  "language_info": {
   "codemirror_mode": {
    "name": "ipython",
    "version": 2
   },
   "file_extension": ".py",
   "mimetype": "text/x-python",
   "name": "python",
   "nbconvert_exporter": "python",
   "pygments_lexer": "ipython2",
   "version": "2.7.6"
  }
 },
 "nbformat": 4,
 "nbformat_minor": 5
}
